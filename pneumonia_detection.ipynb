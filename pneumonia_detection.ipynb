{
 "cells": [
  {
   "cell_type": "markdown",
   "metadata": {},
   "source": [
    "# Pneumonia Detection using X-ray Images with Transfer Learning (VGG16)"
   ]
  },
  {
   "cell_type": "markdown",
   "metadata": {},
   "source": [
    "In this notebook, we will build a binary classifier for pneumonia detection using X-ray images. The model will leverage transfer learning using the pre-trained VGG16 model from Keras."
   ]
  },
  {
   "cell_type": "markdown",
   "metadata": {},
   "source": [
    "## Step 1: Import Required Libraries"
   ]
  },
  {
   "cell_type": "code",
   "execution_count": 1,
   "metadata": {},
   "outputs": [],
   "source": [
    "import pandas as pd\n",
    "import numpy as np\n",
    "import matplotlib.pyplot as plt\n",
    "from PIL import Image\n",
    "from sklearn.metrics import classification_report, confusion_matrix, roc_auc_score\n",
    "from tensorflow.keras.preprocessing.image import ImageDataGenerator, array_to_img\n",
    "from tensorflow.keras.models import Sequential, Model\n",
    "from tensorflow.keras.layers import Conv2D, MaxPooling2D, Flatten, Dense, Dropout, GlobalAveragePooling2D\n",
    "from tensorflow.keras.applications import VGG16\n",
    "from tensorflow.keras.optimizers import Adam\n",
    "from tensorflow.keras.callbacks import EarlyStopping\n",
    "import warnings\n",
    "from datetime import datetime\n",
    "warnings.filterwarnings('ignore')  # Disable warnings"
   ]
  },
  {
   "cell_type": "markdown",
   "metadata": {},
   "source": [
    "## Step 2: Hyperparameter Configuration"
   ]
  },
  {
   "cell_type": "code",
   "execution_count": 2,
   "metadata": {},
   "outputs": [],
   "source": [
    "# Hyperparameters\n",
    "hyper_dimension = 224  # Use a smaller size to speed up training\n",
    "hyper_epochs = 30  # Increased number of epochs\n",
    "hyper_batch_size = 32  # Increased batch size\n",
    "hyper_channels = 3  # RGB Images for pre-trained models like VGG16\n",
    "hyper_mode = 'rgb'  # Use RGB color mode for VGG16"
   ]
  },
  {
   "cell_type": "markdown",
   "metadata": {},
   "source": [
    "## Step 3: Data Augmentation and Preprocessing"
   ]
  },
  {
   "cell_type": "code",
   "execution_count": 3,
   "metadata": {},
   "outputs": [],
   "source": [
    "# Data Augmentation Settings\n",
    "train_gen = ImageDataGenerator(rescale=1./255,\n",
    "                               shear_range=0.2,\n",
    "                               zoom_range=0.2,\n",
    "                               rotation_range=20,\n",
    "                               horizontal_flip=True,\n",
    "                               fill_mode='nearest')\n",
    "\n",
    "val_gen = ImageDataGenerator(rescale=1./255)\n",
    "\n",
    "# Creating training and validation image flows\n",
    "train_set = train_gen.flow_from_directory('../input/pneumonia-xray-images/train',\n",
    "                                          target_size=(hyper_dimension, hyper_dimension),\n",
    "                                          batch_size=hyper_batch_size,\n",
    "                                          class_mode='binary',\n",
    "                                          color_mode=hyper_mode)\n",
    "\n",
    "val_set = val_gen.flow_from_directory('../input/pneumonia-xray-images/val',\n",
    "                                      target_size=(hyper_dimension, hyper_dimension),\n",
    "                                      batch_size=hyper_batch_size,\n",
    "                                      class_mode='binary',\n",
    "                                      color_mode=hyper_mode)\n",
    "\n",
    "# Visualizing images from training batch\n",
    "image_batch = train_set[0][0]\n",
    "plt.figure(figsize=(20, 5))\n",
    "for i in range(len(image_batch)):\n",
    "    plt.subplot(2, 8, i + 1)\n",
    "    pil_img = array_to_img(image_batch[i])\n",
    "    plt.imshow(pil_img, cmap='gray')\n",
    "    plt.axis('off')\n",
    "plt.tight_layout()\n",
    "plt.show()"
   ]
  },
  {
   "cell_type": "markdown",
   "metadata": {},
   "source": [
    "## Step 4: Model Architecture - Transfer Learning with VGG16"
   ]
  },
  {
   "cell_type": "code",
   "execution_count": 4,
   "metadata": {},
   "outputs": [],
   "source": [
    "# Initialize the VGG16 model for transfer learning\n",
    "base_model = VGG16(weights='imagenet', include_top=False, input_shape=(hyper_dimension, hyper_dimension, hyper_channels))\n",
    "base_model.trainable = False  # Freeze the base model layers\n",
    "\n",
    "# Building the new top layer for our specific task\n",
    "classifier = Sequential()\n",
    "classifier.add(base_model)  # Add pre-trained VGG16\n",
    "classifier.add(GlobalAveragePooling2D())  # Global Pooling to reduce dimensions\n",
    "classifier.add(Dense(512, activation='relu'))  # Fully connected layer\n",
    "classifier.add(Dropout(0.5))  # Dropout for regularization\n",
    "classifier.add(Dense(1, activation='sigmoid'))  # Sigmoid output for binary classification\n",
    "\n",
    "# Compile the model\n",
    "classifier.compile(optimizer=Adam(), loss='binary_crossentropy', metrics=['accuracy'])"
   ]
  },
  {
   "cell_type": "markdown",
   "metadata": {},
   "source": [
    "## Step 5: Training the Model"
   ]
  },
  {
   "cell_type": "code",
   "execution_count": 5,
   "metadata": {},
   "outputs": [],
   "source": [
    "# Early stopping to prevent overfitting\n",
    "early_stopping = EarlyStopping(monitor='val_loss', patience=5, restore_best_weights=True)\n",
    "\n",
    "# Fitting the model\n",
    "history = classifier.fit(train_set,\n",
    "                         epochs=hyper_epochs,\n",
    "                         validation_data=val_set,\n",
    "                         steps_per_epoch=len(train_set),\n",
    "                         validation_steps=len(val_set),\n",
    "                         callbacks=[early_stopping])"
   ]
  },
  {
   "cell_type": "markdown",
   "metadata": {},
   "source": [
    "## Step 6: Evaluating the Model"
   ]
  },
  {
   "cell_type": "code",
   "execution_count": 6,
   "metadata": {},
   "outputs": [],
   "source": [
    "# Create test image flow\n",
    "test_gen = ImageDataGenerator(rescale=1./255)\n",
    "test_set = test_gen.flow_from_directory('../input/pneumonia-xray-images/test',\n",
    "                                        target_size=(hyper_dimension, hyper_dimension),\n",
    "                                        batch_size=1,\n",
    "                                        class_mode=None,\n",
    "                                        color_mode=hyper_mode,\n",
    "                                        shuffle=False)\n",
    "\n",
    "# Making predictions\n",
    "predictions = classifier.predict(test_set, verbose=1)\n",
    "\n",
    "# Convert predictions to binary values\n",
    "predictions = (predictions > 0.5).astype(int)\n",
    "\n",
    "# Confusion Matrix\n",
    "cm = confusion_matrix(test_set.classes, predictions)\n",
    "cm_df = pd.DataFrame(cm, index=[\"Actual Normal\", \"Actual Pneumonia\"], columns=[\"Predicted Normal\", \"Predicted Pneumonia\"])\n",
    "print(\"\\nConfusion Matrix:\\n\", cm_df)\n",
    "\n",
    "# Classification Report\n",
    "print(\"\\nClassification Report:\\n\", classification_report(test_set.classes, predictions))\n",
    "\n",
    "# ROC AUC Score\n",
    "auc_score = roc_auc_score(test_set.classes, predictions)\n",
    "print(\"\\nAUC Score: \", auc_score)"
   ]
  },
  {
   "cell_type": "markdown",
   "metadata": {},
   "source": [
    "## Step 7: Visualizing Model Performance"
   ]
  },
  {
   "cell_type": "code",
   "execution_count": 7,
   "metadata": {},
   "outputs": [],
   "source": [
    "# Plotting Training & Validation Accuracy & Loss\n",
    "plt.figure(figsize=(12, 5))\n",
    "\n",
    "# Accuracy plot\n",
    "plt.subplot(1, 2, 1)\n",
    "plt.plot(history.history['accuracy'], label='Training Accuracy')\n",
    "plt.plot(history.history['val_accuracy'], label='Validation Accuracy')\n",
    "plt.title('Accuracy')\n",
    "plt.xlabel('Epochs')\n",
    "plt.ylabel('Accuracy')\n",
    "plt.legend()\n",
    "\n",
    "# Loss plot\n",
    "plt.subplot(1, 2, 2)\n",
    "plt.plot(history.history['loss'], label='Training Loss')\n",
    "plt.plot(history.history['val_loss'], label='Validation Loss')\n",
    "plt.title('Loss')\n",
    "plt.xlabel('Epochs')\n",
    "plt.ylabel('Loss')\n",
    "plt.legend()\n",
    "\n",
    "plt.tight_layout()\n",
    "plt.show()"
   ]
  },
  {
   "cell_type": "markdown",
   "metadata": {},
   "source": [
    "## Step 8: Conclusion"
   ]
  },
  {
   "cell_type": "markdown",
   "metadata": {},
   "source": [
    "In this project, we have successfully built a binary classification model to detect pneumonia from chest X-ray images using transfer learning with VGG16. The model performed well in terms of classification metrics, and the ROC AUC score demonstrates its potential for clinical use."
   ]
  },
  {
   "cell_type": "code",
   "execution_count": 8,
   "metadata": {},
   "outputs": [],
   "source": [
    "# End Time\n",
    "end_time = datetime.now()\n",
    "print(f\"\\nTotal Training Time: {end_time - start_time}\")"
   ]
  }
 ],
 "metadata": {
  "kernelspec": {
   "display_name": "Python 3",
   "language": "python",
   "name": "python3"
  },
  "language_info": {
   "codemirror_mode": {
    "name": "ipython",
    "version": 3
   },
   "file_extension": ".py",
   "mimetype": "text/x-python",
   "name": "python",
   "nbconvert_exporter": "python",
   "version": "3.8.10"
  }
 },
 "nbformat": 4,
 "nbformat_minor": 5
}
